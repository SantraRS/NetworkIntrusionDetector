{
 "cells": [
  {
   "cell_type": "markdown",
   "metadata": {},
   "source": [
    "# 03_rl_environment\n",
    "Inspect and test the custom Gym environment."
   ]
  },
  {
   "cell_type": "code",
   "execution_count": null,
   "metadata": {},
   "outputs": [],
   "source": [
    "from src.env.intrusion_env import IntrusionEnv\n",
    "import numpy as np\n",
    "data = np.random.rand(100, 11)\n",
    "env = IntrusionEnv(data=data)\n",
    "obs, _ = env.reset()\n",
    "print('obs shape:', obs.shape)"
   ]
  }
 ],
 "metadata": {},
 "nbformat": 4,
 "nbformat_minor": 5
}