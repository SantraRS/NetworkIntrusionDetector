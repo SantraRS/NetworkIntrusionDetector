{
 "cells": [
  {
   "cell_type": "markdown",
   "metadata": {},
   "source": [
    "# 02_feature_scaling
",
    "Build and save scaler."
   ]
  },
  {
   "cell_type": "code",
   "execution_count": null,
   "metadata": {},
   "outputs": [],
   "source": [
    "from src.features.build_features import build_scaler\n",
    "build_scaler('data/processed/processed_numeric.csv', 'models/scaler.joblib')"
   ]
  }
 ],
 "metadata": {},
 "nbformat": 4,
 "nbformat_minor": 5
}